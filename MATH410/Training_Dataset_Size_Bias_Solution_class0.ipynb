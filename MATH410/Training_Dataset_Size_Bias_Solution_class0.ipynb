{
 "cells": [
  {
   "cell_type": "markdown",
   "metadata": {
    "id": "8oE8SPP-H6zQ"
   },
   "source": [
    "In this assignemnt, you will use tensorflow to build and train a multilayer feedforward neural network. The dataset you will be working with is the famous fMNIST dataset. Your main goal is to purposefully introduce bias in the training dataset and see how it performs during the testing session.\n",
    "\n",
    "Thus, let's start your journey in the world of Neural Nets. [Exercise by Nicolae Istrate, 2022]"
   ]
  },
  {
   "cell_type": "markdown",
   "metadata": {
    "id": "blKXYaFKjdwB"
   },
   "source": [
    "This assignemnt will be structured such that you will have to complete the code.\n",
    "There will be sections of code (+commentary) that will guide you through the process, and create the logic of the script.\n",
    "\n",
    "For start we will import the necessary packages that will make this code work. You will extensively use the keras module from the tensorflow package. You don't need to be familiar with it, however if here's the link to the documentation https://www.tensorflow.org/api_docs/python/tf/keras.\n",
    "\n",
    "Besides the tensorflow package, you have included a couple more package that you might find useful. Feel free to import other packages and modules."
   ]
  },
  {
   "cell_type": "code",
   "execution_count": 1,
   "metadata": {
    "id": "WWrvuyRkdSYO"
   },
   "outputs": [],
   "source": [
    "from __future__ import absolute_import, division, print_function, unicode_literals\n",
    "\n",
    "# importing tensorflow\n",
    "import tensorflow as tf\n",
    "\n",
    "#other helpful libraries\n",
    "import random\n",
    "import numpy as np\n",
    "import matplotlib.pyplot as plt"
   ]
  },
  {
   "cell_type": "markdown",
   "metadata": {
    "id": "uhHrMhfyd9q0"
   },
   "source": [
    "This code is going to work with the MNIST Fashion dataset. This dataset is a collection of $70000$ grayscale images from $10$ different categories. The images show individual articles of clothing. \n",
    "\n",
    "The MNIST Fashion dataset is a the next logical step in complexity after the MNIST dataset. Both datasets are relatively small and are used to verfiy that an algorithm works as expected. They are good starting points to test and debug code.\n",
    "\n",
    "In this code we will be importing $60000$ of the images as our training dataset and the remaining $10000$ will be used to test our network learning. \n",
    "\n",
    "Let's start by importing the data and defining the fashion categories as a list of strings. You don't have to change/add anything else."
   ]
  },
  {
   "cell_type": "code",
   "execution_count": 2,
   "metadata": {
    "colab": {
     "base_uri": "https://localhost:8080/"
    },
    "id": "ewAJjAC1dzQN",
    "outputId": "2058f712-3d6a-46ea-f126-a4c222292a64"
   },
   "outputs": [
    {
     "name": "stdout",
     "output_type": "stream",
     "text": [
      "Downloading data from https://storage.googleapis.com/tensorflow/tf-keras-datasets/train-labels-idx1-ubyte.gz\n",
      "29515/29515 [==============================] - 0s 1us/step\n",
      "Downloading data from https://storage.googleapis.com/tensorflow/tf-keras-datasets/train-images-idx3-ubyte.gz\n",
      "26421880/26421880 [==============================] - 6s 0us/step\n",
      "Downloading data from https://storage.googleapis.com/tensorflow/tf-keras-datasets/t10k-labels-idx1-ubyte.gz\n",
      "5148/5148 [==============================] - 0s 0us/step\n",
      "Downloading data from https://storage.googleapis.com/tensorflow/tf-keras-datasets/t10k-images-idx3-ubyte.gz\n",
      "4422102/4422102 [==============================] - 2s 1us/step\n"
     ]
    }
   ],
   "source": [
    "fashion_minst = tf.keras.datasets.fashion_mnist\n",
    "\n",
    "(train_images, train_labels),(test_images, test_labels) = fashion_minst.load_data()\n",
    "\n",
    "# since the category name is not stored in the dataset, we will make it exlpicit here\n",
    "# notice that the training and testing labels are actually represented.\n",
    "#     hint: check the elements stored in train_labels_full and test_labels\n",
    "\n",
    "class_name = ['t-shirt/top', 'trouser', 'pullover', 'dress', 'coat', 'sandal', 'shirt', 'sneaker', 'bag', 'ankle boot']"
   ]
  },
  {
   "cell_type": "code",
   "execution_count": 3,
   "metadata": {
    "id": "VeAdsI8Cwgdc"
   },
   "outputs": [],
   "source": [
    "# We desire each pixel in the image to be associated with a number from 0 to 1, \n",
    "# thus we divide by 255\n",
    "\n",
    "train_images = train_images / 255.0\n",
    "test_images = test_images / 255.0"
   ]
  },
  {
   "cell_type": "code",
   "execution_count": 4,
   "metadata": {
    "id": "vfEBYn1Re-fw"
   },
   "outputs": [],
   "source": [
    "# You can use functions/operations like len() and shape to better understand the structure of your dataset\n",
    "\n",
    "# ex: \n",
    "# len(train_images)      - gives you the number of images in the trainig dataset\n",
    "# train_images[0].shape  - gives you the shape of the 0th image (notice that each image is a 28x28 pixels object that is being stored as an array) "
   ]
  },
  {
   "cell_type": "code",
   "execution_count": 5,
   "metadata": {
    "colab": {
     "base_uri": "https://localhost:8080/",
     "height": 283
    },
    "id": "lv-zaOUowIMw",
    "outputId": "511e3cd3-ff11-4453-f8aa-db123d3177d3"
   },
   "outputs": [
    {
     "name": "stdout",
     "output_type": "stream",
     "text": [
      "This is a bag\n"
     ]
    },
    {
     "data": {
      "image/png": "[encoded data removed]",
      "text/plain": [
       "<Figure size 432x288 with 2 Axes>"
      ]
     },
     "metadata": {
      "needs_background": "light"
     },
     "output_type": "display_data"
    }
   ],
   "source": [
    "# Run this cell or plot one of the training images to see what you're working with\n",
    "plt.figure()\n",
    "\n",
    "idx = np.random.randint(0,len(train_images))\n",
    "print(f'This is a {class_name[train_labels[idx]]}')\n",
    "plt.imshow(train_images[idx], cmap=plt.cm.binary)\n",
    "plt.colorbar()\n",
    "plt.grid(True)\n",
    "plt.show()\n",
    "\n"
   ]
  },
  {
   "cell_type": "markdown",
   "metadata": {
    "id": "5jiBLyRem71W"
   },
   "source": [
    "Before building our feed forward neural network, we will introduce some bias in our training dataset. For that you will chose a category of your choice  and select only $1, 5, 10, 100~\\%$ of the training data of that category (ex: select only $1~\\%$ of the training data labeled coat).\n",
    "\n",
    "Notice that the `train_images` and `train_labels` are matched and shuffled datasets (i.e. each image corresponds to its label).\n",
    "\n",
    "From the original training datasets you will have to remove / or select only a small amount the data from a particular category."
   ]
  },
  {
   "cell_type": "markdown",
   "metadata": {},
   "source": [
    "Check that all classes have the same sample size"
   ]
  },
  {
   "cell_type": "code",
   "execution_count": 15,
   "metadata": {},
   "outputs": [
    {
     "name": "stdout",
     "output_type": "stream",
     "text": [
      "class t-shirt/top has 6000 training samples\n",
      "class trouser has 6000 training samples\n",
      "class pullover has 6000 training samples\n",
      "class dress has 6000 training samples\n",
      "class coat has 6000 training samples\n",
      "class sandal has 6000 training samples\n",
      "class shirt has 6000 training samples\n",
      "class sneaker has 6000 training samples\n",
      "class bag has 6000 training samples\n",
      "class ankle boot has 6000 training samples\n"
     ]
    }
   ],
   "source": []
  },
  {
   "cell_type": "code",
   "execution_count": 10,
   "metadata": {
    "id": "UzkZhgzLIYj3"
   },
   "outputs": [],
   "source": [
    "# select the number you want to bias 0 ... 9\n",
    "# how much do you want to bias"
   ]
  },
  {
   "cell_type": "code",
   "execution_count": 7,
   "metadata": {},
   "outputs": [],
   "source": [
    "selectedNum = 2 # select the number you want to bias 0 ... 9\n",
    "percentOfData = [0.1, 1.0]  # how much do you want to bias"
   ]
  },
  {
   "cell_type": "code",
   "execution_count": 8,
   "metadata": {
    "colab": {
     "base_uri": "https://localhost:8080/",
     "height": 287
    },
    "id": "eZdHOAT9SYVo",
    "outputId": "151d45d9-906e-4c46-b29a-6c7d3dfc06c0"
   },
   "outputs": [
    {
     "name": "stdout",
     "output_type": "stream",
     "text": [
      "We decided to bias the set of pullovers\n"
     ]
    },
    {
     "data": {
      "image/png": "[encoded data removed]",
      "text/plain": [
       "<Figure size 432x288 with 2 Axes>"
      ]
     },
     "metadata": {
      "needs_background": "light"
     },
     "output_type": "display_data"
    }
   ],
   "source": [
    "bias_list = []\n",
    "\n",
    "x_train_full = train_images.copy()\n",
    "y_train_full = train_labels.copy()\n",
    "\n",
    "# sorting and selecting the index of elements that we want to bias\n",
    "\n",
    "\n",
    "x_train = []\n",
    "y_train = []\n",
    "\n",
    "\n",
    "\n",
    "\n",
    "# Run this cell o plot one of the training images to see what you're working with\n",
    "plt.figure()\n",
    "print(f'We decided to bias the set of {class_name[selectedNum]}s')\n",
    "plt.imshow(train_images[biasIdx[0][0]], cmap=plt.cm.binary)\n",
    "plt.colorbar()\n",
    "plt.grid(True)\n",
    "plt.show()"
   ]
  },
  {
   "cell_type": "markdown",
   "metadata": {
    "id": "kRzK7MmHwzpu"
   },
   "source": [
    "In what follows let's build our feed forward neural network.\n",
    "Our network will have an input layer, 2 hidden layers, and an output layer.\n",
    "\n",
    "For the input layer, use the following code:\n",
    "\n",
    "`tf.keras.layers.Flatten(input_shape = (28, 28))`\n",
    "\n",
    "Notice that we are flattening a $28\\times28$ array into a $1D$ array of size $784.$.\n",
    "\n",
    "For the output layer use:\n",
    "\n",
    "`tf.keras.layers.Dense(10, activation = 'softmax')`\n",
    "\n",
    "Notice that the size of the layer is $10$, corresponding to the total number of categories.\n",
    "\n",
    "For the hidden (inbetween) layers, use the follwoing syntax:\n",
    "\n",
    "`tf.keras.layers.Dense(`$size$, activation = 'relu')`\n",
    "\n",
    "*You could use a size of 128 for fast results, however **we strongly encourage** you to play around with **different sizes** along with **multiple layers**. This will allow you to get a better understanding on how the arhitecture of your neural network affects the results.*\n"
   ]
  },
  {
   "cell_type": "code",
   "execution_count": 14,
   "metadata": {
    "id": "IIBAjYF4hRge"
   },
   "outputs": [],
   "source": [
    "# Let's proceed with building the model\n",
    "\n"
   ]
  },
  {
   "cell_type": "markdown",
   "metadata": {
    "id": "Tg3u6mBDcMhM"
   },
   "source": [
    "Now that our model is trained, you will have to use it to predict labels based on your testing data set. To do this you can use the following method:\n",
    "\n",
    "`model.predict( your_input )`.\n",
    "\n",
    "However, first you will determine the accuracy of the model (number of correct predctions / total predictions) of the entire dataset, and afterwards you will have to sort the testing data into individual sets based on the category, and then deterime the prediction accuracy of the model for each category.\n",
    "\n",
    "What can you say about the relation between the bias you introduced and the accuracy of the trained model?\n",
    "\n"
   ]
  },
  {
   "cell_type": "code",
   "execution_count": 13,
   "metadata": {
    "id": "H5HuGaSXNRHb"
   },
   "outputs": [],
   "source": [
    "# sorting test images and labels by category\n",
    "\n",
    "sorted_test_labels =[[] for i in range(len(class_name)) ]\n",
    "sorted_test_images =[[] for i in range(len(class_name)) ]\n",
    "\n"
   ]
  },
  {
   "cell_type": "code",
   "execution_count": 15,
   "metadata": {
    "colab": {
     "base_uri": "https://localhost:8080/"
    },
    "id": "uLmYsAYINBA_",
    "outputId": "7f71d2d7-fd55-460f-cd12-d57a1b7ee02d"
   },
   "outputs": [
    {
     "name": "stdout",
     "output_type": "stream",
     "text": [
      "32/32 [==============================] - 0s 7ms/step\n",
      "32/32 [==============================] - 0s 2ms/step\n",
      "32/32 [==============================] - 0s 2ms/step\n",
      "32/32 [==============================] - 0s 2ms/step\n",
      "32/32 [==============================] - 0s 2ms/step\n",
      "32/32 [==============================] - 0s 2ms/step\n",
      "32/32 [==============================] - 0s 2ms/step\n",
      "32/32 [==============================] - 0s 2ms/step\n",
      "32/32 [==============================] - 0s 2ms/step\n",
      "32/32 [==============================] - 0s 2ms/step\n",
      "\n",
      "Biased Set: pullover (1.0% of data) \n",
      "\n",
      "\n",
      "Overall Accuracy: 84.3%\n",
      "\n",
      "Accuracy Value per category:\n",
      "\n",
      "t-shirt/top: 89.5%\n",
      "trouser: 97.3%\n",
      "pullover: 17.3%\n",
      "dress: 93.8%\n",
      "coat: 85.2%\n",
      "sandal: 97.1%\n",
      "shirt: 73.4%\n",
      "sneaker: 98.2%\n",
      "bag: 97.3%\n",
      "ankle boot: 93.6%\n",
      "___________________________________________\n",
      "___________________________________________\n",
      "32/32 [==============================] - 0s 2ms/step\n",
      "32/32 [==============================] - 0s 2ms/step\n",
      "32/32 [==============================] - 0s 2ms/step\n",
      "32/32 [==============================] - 0s 2ms/step\n",
      "32/32 [==============================] - 0s 2ms/step\n",
      "32/32 [==============================] - 0s 2ms/step\n",
      "32/32 [==============================] - 0s 2ms/step\n",
      "32/32 [==============================] - 0s 2ms/step\n",
      "32/32 [==============================] - 0s 2ms/step\n",
      "32/32 [==============================] - 0s 2ms/step\n",
      "\n",
      "Biased Set: pullover (5.0% of data) \n",
      "\n",
      "\n",
      "Overall Accuracy: 86.1%\n",
      "\n",
      "Accuracy Value per category:\n",
      "\n",
      "t-shirt/top: 86.0%\n",
      "trouser: 97.5%\n",
      "pullover: 34.6%\n",
      "dress: 90.1%\n",
      "coat: 90.5%\n",
      "sandal: 97.0%\n",
      "shirt: 73.6%\n",
      "sneaker: 96.5%\n",
      "bag: 98.2%\n",
      "ankle boot: 96.5%\n",
      "___________________________________________\n",
      "___________________________________________\n"
     ]
    }
   ],
   "source": [
    "# Now let's train and test the model\n",
    "\n",
    "full_prediction_list = []\n",
    "overall_model_accuracy = []\n",
    "\n",
    "for bias_case in range(len(percentOfData)):\n",
    "\n",
    "    bias_percent = percentOfData[bias_case]\n",
    "\n",
    "\n",
    "    #print(\"___________________________________________\\n___________________________________________\")\n",
    "\n",
    "\n",
    "\n",
    "    # appending the full results of the network prediction\n",
    "\n",
    "    # printing & comparing model prediction labels vs actual labels as correct/total * 100% \n",
    "\n",
    "    print(f'\\nBiased Set: {class_name[selectedNum]} ({bias_percent*100}% of data) \\n')\n",
    "    print(f'\\nOverall Accuracy: {np.round(overall_model_accuracy[bias_case][1]*100 , 1)}%\\n\\nAccuracy Value per category:\\n')\n",
    "    for i in range(len(class_name)):\n",
    "        print( f'{class_name[i]}: {100*np.sum([full_prediction_list[bias_case][i][j] == sorted_test_labels[i][j] for j in range(len(full_prediction_list[bias_case][i]))]) / len(sorted_test_labels[i])}%')\n",
    "\n",
    "    print(\"___________________________________________\\n___________________________________________\")\n"
   ]
  },
  {
   "cell_type": "code",
   "execution_count": null,
   "metadata": {
    "id": "PbFGd5Sxd2zP"
   },
   "outputs": [],
   "source": []
  }
 ],
 "metadata": {
  "colab": {
   "collapsed_sections": [],
   "name": "Training Dataset Size Bias: Solution.ipynb",
   "provenance": []
  },
  "kernelspec": {
   "display_name": "Python 3.9.12 ('data-science')",
   "language": "python",
   "name": "python3"
  },
  "language_info": {
   "codemirror_mode": {
    "name": "ipython",
    "version": 3
   },
   "file_extension": ".py",
   "mimetype": "text/x-python",
   "name": "python",
   "nbconvert_exporter": "python",
   "pygments_lexer": "ipython3",
   "version": "3.9.12"
  },
  "vscode": {
   "interpreter": {
    "hash": "ef4ee31694362da4e3e97400a1140db96bc135cfab3fd337c8eb76c89e052867"
   }
  }
 },
 "nbformat": 4,
 "nbformat_minor": 4
}
