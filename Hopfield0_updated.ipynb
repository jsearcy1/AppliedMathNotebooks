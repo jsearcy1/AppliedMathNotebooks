{
 "cells": [
  {
   "cell_type": "markdown",
   "metadata": {},
   "source": [
    "## Hopfield network - part 1: memory storage and retrieval\n",
    "\n",
    "Build a Hopfield network with $nunits$ neurons, storing $npatterns$ orthogonal patterns in its synaptic weights.\n",
    "\n",
    "Neurons activity takes values $S_i=\\{\\pm1\\}$, for $i=1,\\ldots,nunits$.\n",
    "\n",
    "Input patterns take values $\\xi_i^\\mu=\\{\\pm1\\}$, for $i=1,\\ldots,nunits$ neurons and $\\mu=1,\\ldots,npatterns$ patterns.\n",
    "\n",
    "Test memory retrieval and the occurrence of spurious states \n"
   ]
  },
  {
   "cell_type": "code",
   "execution_count": null,
   "metadata": {},
   "outputs": [],
   "source": [
    "import numpy as np\n",
    "from matplotlib import pyplot as plt\n",
    "import matplotlib.cm as cm\n",
    "np.random.seed(1)\n",
    "\n",
    "# plotting specifications\n",
    "#Options\n",
    "params = {'text.usetex' : True,\n",
    "         'font.size' : 20,\n",
    "         'font.family' : 'cmr10',\n",
    "#          'figure.autolayout': True\n",
    "         }\n",
    "plt.rcParams.update(params)\n",
    "# plt.rcParams['axes.unicode_minus']=False\n",
    "# plt.rcParams['axes.labelsize']=16\n",
    "# plt.rcParams['figure.figsize']=(5,5)\n",
    "\n",
    "cmap = plt.get_cmap(\"tab10\") # default color cycle, call by using color=cmap(i) i=0 is blue\n",
    "#reversed('RdBu')"
   ]
  },
  {
   "cell_type": "markdown",
   "metadata": {},
   "source": [
    "Create $npatterns=4$ orthogonal patterns $\\xi_i^\\mu$. We visualize neurons on a square grid."
   ]
  },
  {
   "cell_type": "code",
   "execution_count": 2,
   "metadata": {},
   "outputs": [
    {
     "data": {
      "image/png": "[encoded data removed]",
      "text/plain": [
       "<Figure size 1440x360 with 4 Axes>"
      ]
     },
     "metadata": {},
     "output_type": "display_data"
    }
   ],
   "source": [
    "N1=16; # size of edge of square array\n",
    "nunits=N1**2 # neurons\n",
    "npatterns=4\n",
    "\n",
    "def generate_orth_patterns(nunits,npatterns):\n",
    "    train_data=np.zeros((npatterns,nunits))\n",
    "    N1=int(nunits**(1/2))\n",
    "    for ip in range(npatterns):\n",
    "        tempPattern=-np.ones((N1,N1))\n",
    "        for i in range(N1):\n",
    "            if (np.ceil((i+1)/(2**ip)) % 2 ==0):\n",
    "                tempPattern[i,:]=1 # top left to bottom right\n",
    "        train_data[ip,:]=tempPattern.flatten()\n",
    "    return train_data\n",
    "    \n",
    "def generate_rand_patterns(nunits,npatterns,probFlip):\n",
    "    #probFlip=probability of having +1 entry\n",
    "    train_data=-np.ones((npatterns,nunits))\n",
    "    N1=int(nunits**(1/2))\n",
    "    for ip in range(npatterns):\n",
    "        tempPattern=-np.ones(nunits)\n",
    "        indflip=(np.random.rand(nunits)<probFlip)\n",
    "        tempPattern[indflip]=1\n",
    "        train_data[ip,:]=tempPattern.flatten()\n",
    "    return train_data\n",
    "\n",
    "# plot patterns\n",
    "def plotpattern(pattern,ax,title='pattern'):\n",
    "    ax.matshow(np.reshape(pattern,[N1,N1]), cmap='Greys',interpolation='nearest')\n",
    "    ax.set_xticks([]); ax.set_yticks([]); ax.set_title(title)\n",
    "    \n",
    "train_data=generate_orth_patterns(nunits,npatterns)    \n",
    "# train_data=generate_rand_patterns(nunits,npatterns,0.5)    \n",
    "\n",
    "nplot=npatterns\n",
    "fig,ax=plt.subplots(1,nplot,figsize=(20,5))\n",
    "for i in range(nplot):\n",
    "    plotpattern(train_data[i],ax[i],title='pattern %s' % i)\n",
    "plt.savefig(\"orthogonal_patterns4.png\")"
   ]
  },
  {
   "cell_type": "markdown",
   "metadata": {},
   "source": [
    "Compute overlaps $m_{\\mu\\nu}$ between patterns (correlation): check that patterns are orthogonal.\n",
    "\n",
    "$$\n",
    "m_{\\mu\\nu}={1\\over N}\\sum_{i=1}^N\\xi_i^\\mu\\xi_i^\\nu \\ .\n",
    "$$\n"
   ]
  },
  {
   "cell_type": "code",
   "execution_count": 3,
   "metadata": {},
   "outputs": [
    {
     "name": "stdout",
     "output_type": "stream",
     "text": [
      "0.0\n",
      "[1. 0. 0. 0.]\n",
      "[[1. 0. 0. 0.]\n",
      " [0. 1. 0. 0.]\n",
      " [0. 0. 1. 0.]\n",
      " [0. 0. 0. 1.]]\n"
     ]
    }
   ],
   "source": [
    "def compute_overlap(pattern1,pattern2):\n",
    "    # returns: overlap between the patterns\n",
    "\n",
    "def compute_overlap_list(reference_pattern,pattern_list):\n",
    "    overlap=np.zeros(len(pattern_list))\n",
    "    for i in range(0,len(pattern_list)):\n",
    "        overlap[i]=compute_overlap(reference_pattern,pattern_list[i])\n",
    "    return overlap\n",
    "\n",
    "def compute_overlap_matrix(pattern_list):\n",
    "    nr_patterns=len(pattern_list)\n",
    "    overlap=np.zeros((nr_patterns,nr_patterns))\n",
    "    for i in range(nr_patterns):\n",
    "        for k in range(i+1):\n",
    "            if i==k:\n",
    "                overlap[i,i]=1\n",
    "            else:\n",
    "                overlap[i,k]=compute_overlap(pattern_list[i],pattern_list[k])\n",
    "                overlap[k,i]=overlap[i,k]\n",
    "    return overlap\n",
    "\n",
    "overlap=compute_overlap(train_data[0],train_data[1])\n",
    "print(overlap)\n",
    "overlap=compute_overlap_list(train_data[0],train_data)\n",
    "print(overlap)\n",
    "overlap=compute_overlap_matrix(train_data)\n",
    "print(overlap)"
   ]
  },
  {
   "cell_type": "markdown",
   "metadata": {},
   "source": [
    "Store first pattern in the synaptic weights $w_{ij}$:\n",
    "\n",
    "$$\n",
    "w_{ij}={1\\over N}\\xi^\\mu_i\\xi^\\mu_j-{1\\over N}\\delta_{ij} \\ ,\n",
    "$$\n",
    "where the last term enforces $w_{ii}=0$."
   ]
  },
  {
   "cell_type": "code",
   "execution_count": 4,
   "metadata": {},
   "outputs": [
    {
     "data": {
      "image/png": "[encoded data removed]",
      "text/plain": [
       "<Figure size 360x288 with 2 Axes>"
      ]
     },
     "metadata": {
      "needs_background": "light"
     },
     "output_type": "display_data"
    }
   ],
   "source": [
    "# hebb rule\n",
    "\n",
    "def plotweights(self,file=\"current_weight.png\"):\n",
    "    plt.figure(figsize=(5,4))\n",
    "    w_plot=plt.imshow(self,cmap=cm.coolwarm)\n",
    "    plt.colorbar(w_plot)\n",
    "    plt.title(\"Network weights\")\n",
    "    plt.xlabel(\"neurons\"); plt.ylabel(\"neurons\"); plt.tight_layout(); plt.savefig(file)\n",
    "    plt.show()\n",
    "    \n",
    "plotweights(weights0)"
   ]
  },
  {
   "cell_type": "markdown",
   "metadata": {},
   "source": [
    "## Recurrent dynamics\n",
    "\n",
    "Implement Hopfield network dynamics, using two different kinds of updates. Monitor the network energy function (Lyapunov function of the dynamics, monotonically decreasing):\n",
    "$$\n",
    "E=-{1\\over2}\\sum_{i,j}w_{ij}S_iS_j \\ ,\n",
    "$$\n",
    "\n",
    "1. Asynchronous updates at zero temperature. At each time step, pick a random neuron and update its value according to the rule:\n",
    "\n",
    "$$\n",
    "S_i(t+1)=sign[\\,h_i(t)+\\theta_i\\,] \\ ,\n",
    "$$ \n",
    "where $h_i(t)=\\sum_{j=1}^N w_{ij}S_j(t)$ is the neuron's input and $\\theta_i$ is an activation threshold.\n",
    "\n",
    "2. Asynchronous updates with nonzero temperature $T$. At each time step, pick a random neuron and update its value according to the probabilistic rule:\n",
    "\n",
    "$$\n",
    "Prob[S_i(t+1)=+1]={1\\over 1+e^{-2\\beta (h_i(t)+\\theta_i)}} \\ ,\n",
    "$$ \n",
    "where $h_i(t)=\\sum_{j=1}^N w_{ij}S_j(t)$ is the neuron's input and $\\theta_i$ is an activation threshold. $\\beta=1/T$ is the inverse temperature."
   ]
  },
  {
   "cell_type": "code",
   "execution_count": 5,
   "metadata": {},
   "outputs": [],
   "source": [
    "# dynamics\n",
    "def probspin(h,beta):\n",
    "\n",
    "\n",
    "def flow(pattern,weights,theta=0.,steps=50000,display=True,EarlyStop=True,T=0):\n"
   ]
  },
  {
   "cell_type": "markdown",
   "metadata": {},
   "source": [
    "## Memory retrieval\n",
    "\n",
    "Introduce a corrupt version $\\rho^{\\mu}_i(p)$ of the stored pattern $\\xi^\\mu_i$, where we flip a fraction $p$=flip_fraction of the pattern bits.  "
   ]
  },
  {
   "cell_type": "code",
   "execution_count": 6,
   "metadata": {},
   "outputs": [
    {
     "data": {
      "image/png": "[encoded data removed]",
      "text/plain": [
       "<Figure size 1440x360 with 2 Axes>"
      ]
     },
     "metadata": {},
     "output_type": "display_data"
    }
   ],
   "source": [
    "# def noisify(pattern,flip_fraction):\n",
    "def noisify(pattern,flip_fraction):\n",
    "    noisy_pattern=pattern.copy()\n",
    "    lenpat=len(noisy_pattern)\n",
    "    choices=np.random.choice(lenpat,int(round(flip_fraction*lenpat)),replace=False)\n",
    "    noisy_pattern[choices]=-noisy_pattern[choices]\n",
    "    return noisy_pattern\n"
   ]
  },
  {
   "cell_type": "markdown",
   "metadata": {},
   "source": [
    "Use the corrupt pattern $S_i(0)=\\rho^{\\mu}_i(p)$ as initial condition for the network dynamics. Does the network converge? Try to increase the fraction of bits flipped. When does retrieval stop working? \n",
    "\n",
    "Use the negative corrupt pattern $S_i(0)=-\\rho^{\\mu}_i(p)$ as initial condition, and let the network evolve. Where does the network converge to? "
   ]
  },
  {
   "cell_type": "code",
   "execution_count": 7,
   "metadata": {},
   "outputs": [
    {
     "name": "stdout",
     "output_type": "stream",
     "text": [
      "overlap of noisy pattern with 4 patterns [ 0.796875  0.015625  0.0625   -0.03125 ]\n",
      "\n",
      "overlap of retrieved pattern with 4 patterns [ 0.9921875 -0.0078125 -0.0078125 -0.0078125]\n",
      "\n",
      "overlap of noisy pattern with 4 patterns [-0.796875 -0.015625 -0.0625    0.03125 ]\n",
      "\n",
      "overlap of retrieved pattern with 4 patterns [-0.9921875  0.0078125  0.0078125  0.0078125]\n",
      "\n"
     ]
    },
    {
     "data": {
      "image/png": "[encoded data removed]",
      "text/plain": [
       "<Figure size 1440x360 with 2 Axes>"
      ]
     },
     "metadata": {},
     "output_type": "display_data"
    },
    {
     "data": {
      "image/png": "[encoded data removed]",
      "text/plain": [
       "<Figure size 1440x360 with 2 Axes>"
      ]
     },
     "metadata": {},
     "output_type": "display_data"
    }
   ],
   "source": [
    "# evolve corrupt version of 1st pattern\n",
    "print('overlap of noisy pattern with 4 patterns %s\\n' % overlap)\n",
    "print('overlap of retrieved pattern with 4 patterns %s\\n' % overlap)\n",
    "fig,ax=plt.subplots(1,2,figsize=(20,5))\n",
    "plotpattern(noisy0,ax[0],title='initial condition')\n",
    "plotpattern(noisy_evolved0,ax[1],title='retrieved pattern')\n",
    "\n",
    "# evolve corrupt version of minus the 1st pattern\n",
    "print('overlap of noisy pattern with 4 patterns %s\\n' % overlap)\n",
    "print('overlap of retrieved pattern with 4 patterns %s\\n' % overlap)\n",
    "fig,ax=plt.subplots(1,2,figsize=(20,5))\n",
    "plotpattern(-noisy0,ax[0],title='initial condition')\n",
    "plotpattern(noisy_evolved0,ax[1],title='retrieved pattern')\n"
   ]
  },
  {
   "cell_type": "markdown",
   "metadata": {},
   "source": [
    "## Basin of attraction\n",
    "\n",
    "Calculate the basin of attraction of the pattern $\\xi^\\mu_i$, defined as value of the overlap $m[\\xi^\\mu_i,\\rho^{\\mu}_i(p)]$ for which pattern retrieval goes down to chance level. For each value of spin flip percentage $p$, run 5 times from random initial conditions and story the fraction of correctly retrieved patterns. \n",
    "\n",
    "Hint: calculate retrieval by increasing the percentage of spin flips $p$ of the corrupt initial condition $\\rho^{\\mu}_i(p)$.\n"
   ]
  },
  {
   "cell_type": "code",
   "execution_count": 19,
   "metadata": {},
   "outputs": [
    {
     "name": "stdout",
     "output_type": "stream",
     "text": [
      "[ 0.796875   0.6015625  0.3984375  0.203125   0.        -0.203125\n",
      " -0.3984375 -0.6015625 -0.796875  -1.       ]\n",
      "[1.  1.  1.  1.  0.6 0.  0.  0.  0.  0. ]\n"
     ]
    },
    {
     "data": {
      "text/plain": [
       "(array([ 0.796875 ,  0.6015625,  0.3984375,  0.203125 ,  0.       ,\n",
       "        -0.203125 , -0.3984375, -0.6015625, -0.796875 , -1.       ]),\n",
       " array([1. , 1. , 1. , 1. , 0.6, 0. , 0. , 0. , 0. , 0. ]))"
      ]
     },
     "execution_count": 19,
     "metadata": {},
     "output_type": "execute_result"
    },
    {
     "data": {
      "image/png": "[encoded data removed]",
      "text/plain": [
       "<Figure size 720x360 with 1 Axes>"
      ]
     },
     "metadata": {
      "needs_background": "light"
     },
     "output_type": "display_data"
    }
   ],
   "source": [
    "# i_train is the index of the pattern that we choose for noisyfied initial conditions and try to retrieve\n",
    "def basin(testpatterns,i_train,weights1,fset,nrepeats,T=0):\n",
    "\n",
    "\n",
    "    print(overlap_f)\n",
    "    print(retrieval_f)\n",
    "\n",
    "\n",
    "    fig,ax=plt.subplots(1,1,figsize=(10,5))\n",
    "    ax.plot(overlap_f, retrieval_f, linestyle='solid')\n",
    "    ax.set_title(\"pattern retrieval\")\n",
    "    ax.set_xlabel(\"overlap m\"); ax.set_ylabel(\"successful retrieval [%]\")\n",
    "    ax.plot([overlap_f.min(),overlap_f.max()],0.5*np.ones(2))\n",
    "\n",
    "    return overlap_f,retrieval_f\n",
    "\n",
    "basin(test_patterns,0,weights0,fset,nrepeats)"
   ]
  },
  {
   "cell_type": "markdown",
   "metadata": {},
   "source": [
    "Store both first and second pattern and check their retrieval. Vary the level of overlap between the initial conditions and each pattern."
   ]
  },
  {
   "cell_type": "code",
   "execution_count": 9,
   "metadata": {},
   "outputs": [
    {
     "data": {
      "image/png": "[encoded data removed]",
      "text/plain": [
       "<Figure size 360x288 with 2 Axes>"
      ]
     },
     "metadata": {
      "needs_background": "light"
     },
     "output_type": "display_data"
    }
   ],
   "source": [
    "def set_weights(patterns):\n",
    "\n",
    "\n",
    "plotweights(average_weights)"
   ]
  },
  {
   "cell_type": "code",
   "execution_count": 11,
   "metadata": {},
   "outputs": [
    {
     "name": "stdout",
     "output_type": "stream",
     "text": [
      "overlaps of noisy pattern 1 with training patterns [ 0.0234375  0.3984375 -0.0234375  0.0546875]\n"
     ]
    },
    {
     "data": {
      "image/png": "[encoded data removed]",
      "text/plain": [
       "<Figure size 432x288 with 2 Axes>"
      ]
     },
     "metadata": {},
     "output_type": "display_data"
    },
    {
     "data": {
      "image/png": "[encoded data removed]",
      "text/plain": [
       "<Figure size 432x288 with 2 Axes>"
      ]
     },
     "metadata": {},
     "output_type": "display_data"
    }
   ],
   "source": [
    "print('overlaps of noisy pattern 1 with training patterns %s' % overlap)\n",
    "\n",
    "# plot patterns\n",
    "fig,ax=plt.subplots(1,2,figsize=(6,4))\n",
    "plotpattern(noisy0,ax[0],title='noisy 0')\n",
    "plotpattern(noisy1,ax[1],title='noisy 1')\n",
    "\n",
    "# plot retrieved pattern\n",
    "fig,ax=plt.subplots(1,2,figsize=(6,4))\n",
    "plotpattern(recovered0,ax[0],title='retrieved 0')\n",
    "plotpattern(recovered1,ax[1],title='retrieved 1')\n",
    "\n"
   ]
  },
  {
   "cell_type": "markdown",
   "metadata": {},
   "source": [
    "## Equidistant initial conditions\n",
    "An initial state that has equal overlap with both patterns ends up in either attractor randomly, \n",
    "because asynchronous updates introduce stochasticity."
   ]
  },
  {
   "cell_type": "code",
   "execution_count": 12,
   "metadata": {},
   "outputs": [
    {
     "data": {
      "image/png": "[encoded data removed]",
      "text/plain": [
       "<Figure size 432x288 with 1 Axes>"
      ]
     },
     "metadata": {},
     "output_type": "display_data"
    }
   ],
   "source": [
    "fig,ax=plt.subplots(1,1,figsize=(6,4))\n",
    "plotpattern(pattern01,ax,title='pattern01')\n",
    "# print('overlaps %s' % overlap)"
   ]
  },
  {
   "cell_type": "markdown",
   "metadata": {},
   "source": [
    "Run dynamics 10 times and plot retrieved patterns."
   ]
  },
  {
   "cell_type": "code",
   "execution_count": 13,
   "metadata": {},
   "outputs": [
    {
     "data": {
      "image/png": "[encoded data removed]",
      "text/plain": [
       "<Figure size 1440x288 with 10 Axes>"
      ]
     },
     "metadata": {},
     "output_type": "display_data"
    }
   ],
   "source": [
    "\n",
    "\n",
    "fig,ax=plt.subplots(1,10,figsize=(20,4))\n",
    "for i in range(10):\n",
    "    plotpattern(recovered_pattern[i],ax[i],title='retrieved %s' % i)\n"
   ]
  },
  {
   "cell_type": "markdown",
   "metadata": {},
   "source": [
    "Store all patterns now, check we recover all of them."
   ]
  },
  {
   "cell_type": "code",
   "execution_count": 17,
   "metadata": {},
   "outputs": [
    {
     "data": {
      "image/png": "[encoded data removed]",
      "text/plain": [
       "<Figure size 360x288 with 2 Axes>"
      ]
     },
     "metadata": {
      "needs_background": "light"
     },
     "output_type": "display_data"
    },
    {
     "name": "stdout",
     "output_type": "stream",
     "text": [
      "[-0.1171875  0.0078125 -0.1796875  0.1015625]\n",
      "[0.0859375 0.1328125 0.2109375 0.0234375]\n",
      "[ 0.015625 -0.015625  0.296875  0.03125 ]\n",
      "[-0.09375  -0.0625    0.0625   -0.046875]\n"
     ]
    },
    {
     "data": {
      "image/png": "[encoded data removed]",
      "text/plain": [
       "<Figure size 1440x288 with 4 Axes>"
      ]
     },
     "metadata": {},
     "output_type": "display_data"
    },
    {
     "data": {
      "image/png": "[encoded data removed]",
      "text/plain": [
       "<Figure size 1440x288 with 4 Axes>"
      ]
     },
     "metadata": {},
     "output_type": "display_data"
    }
   ],
   "source": [
    "plotweights(allweights)\n",
    "\n",
    "# noisify each pattern\n",
    "\n",
    "\n",
    "fig,ax=plt.subplots(1,4,figsize=(20,4))\n",
    "for i in range(npatterns):\n",
    "    plotpattern(noisy_patterns[i],ax[i],title='noisy %s' % i)\n",
    "\n",
    "plt.savefig(\"hopfield_orth4_noisy.png\")\n",
    "\n",
    "fig,ax=plt.subplots(1,4,figsize=(20,4))\n",
    "for i in range(npatterns):\n",
    "    plotpattern(recovered_pattern[i],ax[i],title='retrieved %s' % i)\n",
    "plt.savefig(\"hopfield_orth4_retrieval.png\")"
   ]
  },
  {
   "cell_type": "markdown",
   "metadata": {},
   "source": [
    "## Temperature and basins of attraction\n",
    "\n",
    "Check basins of attraction shrink when we increase T\n",
    "\n",
    "Check that basins of attraction shrink when we increase the number of stored patterns"
   ]
  },
  {
   "cell_type": "code",
   "execution_count": 29,
   "metadata": {},
   "outputs": [
    {
     "name": "stdout",
     "output_type": "stream",
     "text": [
      "nunits 256\n",
      "[ 1.         0.78125    0.5546875  0.3359375  0.109375  -0.109375\n",
      " -0.3359375 -0.5546875 -0.78125   -1.       ]\n",
      "[0. 0. 0. 0. 0. 0. 0. 0. 0. 0.]\n"
     ]
    },
    {
     "data": {
      "text/plain": [
       "(array([ 1.       ,  0.78125  ,  0.5546875,  0.3359375,  0.109375 ,\n",
       "        -0.109375 , -0.3359375, -0.5546875, -0.78125  , -1.       ]),\n",
       " array([0., 0., 0., 0., 0., 0., 0., 0., 0., 0.]))"
      ]
     },
     "execution_count": 29,
     "metadata": {},
     "output_type": "execute_result"
    },
    {
     "data": {
      "image/png": "[encoded data removed]",
      "text/plain": [
       "<Figure size 720x360 with 1 Axes>"
      ]
     },
     "metadata": {
      "needs_background": "light"
     },
     "output_type": "display_data"
    }
   ],
   "source": [
    "\n"
   ]
  },
  {
   "cell_type": "code",
   "execution_count": 31,
   "metadata": {},
   "outputs": [
    {
     "data": {
      "image/png": "[encoded data removed]",
      "text/plain": [
       "<Figure size 360x288 with 2 Axes>"
      ]
     },
     "metadata": {
      "needs_background": "light"
     },
     "output_type": "display_data"
    }
   ],
   "source": []
  },
  {
   "cell_type": "markdown",
   "metadata": {},
   "source": [
    "Spurious state: combination of 3 patterns!"
   ]
  },
  {
   "cell_type": "code",
   "execution_count": 34,
   "metadata": {},
   "outputs": [
    {
     "name": "stdout",
     "output_type": "stream",
     "text": [
      "overlap with spurious [ 0.5 -0.5  0.5  0. ]\n",
      "energy at step 00000 is now -63.53125\n",
      "energy at step 00200 is now -78.875\n",
      "energy at step 00400 is now -83.78125\n",
      "energy at step 00600 is now -92.0625\n",
      "energy at step 00800 is now -92.0625\n",
      "energy at step 01000 is now -92.0625\n",
      "energy at step 01200 is now -94.0\n",
      "energy at step 01400 is now -94.0\n",
      "energy at step 01600 is now -94.0\n",
      "energy at step 01800 is now -94.0\n",
      "energy at step 02000 is now -94.0\n",
      "reached min of energy, stop dynamics\n",
      "[ 0.5 -0.5  0.5  0. ]\n"
     ]
    },
    {
     "data": {
      "image/png": "[encoded data removed]",
      "text/plain": [
       "<Figure size 432x288 with 2 Axes>"
      ]
     },
     "metadata": {},
     "output_type": "display_data"
    }
   ],
   "source": [
    "\n",
    "# plot patterns\n",
    "fig,ax=plt.subplots(1,2,figsize=(6,4))\n",
    "plotpattern(spurious0,ax[0],title='spurious')\n",
    "plotpattern(recovered_pattern,ax[1],title='retrieved')\n",
    "plt.savefig(\"hopfield_orth_spurious.png\")\n",
    "overlap=compute_overlap_list(recovered_pattern,train_data)\n",
    "print(overlap)"
   ]
  },
  {
   "cell_type": "code",
   "execution_count": 41,
   "metadata": {},
   "outputs": [
    {
     "name": "stdout",
     "output_type": "stream",
     "text": [
      "[ 1.         0.78125    0.5546875  0.3359375  0.109375  -0.109375\n",
      " -0.3359375 -0.5546875 -0.78125   -1.       ]\n",
      "[1.  1.  1.  1.  1.  0.6 0.4 0.  0.  0. ]\n"
     ]
    },
    {
     "data": {
      "text/plain": [
       "(array([ 1.       ,  0.78125  ,  0.5546875,  0.3359375,  0.109375 ,\n",
       "        -0.109375 , -0.3359375, -0.5546875, -0.78125  , -1.       ]),\n",
       " array([1. , 1. , 1. , 1. , 1. , 0.6, 0.4, 0. , 0. , 0. ]))"
      ]
     },
     "execution_count": 41,
     "metadata": {},
     "output_type": "execute_result"
    },
    {
     "data": {
      "image/png": "[encoded data removed]",
      "text/plain": [
       "<Figure size 720x360 with 1 Axes>"
      ]
     },
     "metadata": {
      "needs_background": "light"
     },
     "output_type": "display_data"
    }
   ],
   "source": [
    "# check that spurious states disappear at T=0.46\n"
   ]
  },
  {
   "cell_type": "markdown",
   "metadata": {},
   "source": [
    "## Robustness to brain damage\n",
    "Set a fraction of the synaptic weights to zero, see how the network performs!"
   ]
  },
  {
   "cell_type": "code",
   "execution_count": 43,
   "metadata": {},
   "outputs": [
    {
     "data": {
      "image/png": "[encoded data removed]",
      "text/plain": [
       "<Figure size 360x288 with 2 Axes>"
      ]
     },
     "metadata": {
      "needs_background": "light"
     },
     "output_type": "display_data"
    },
    {
     "name": "stdout",
     "output_type": "stream",
     "text": [
      "[ 0.453125  0.109375  0.015625 -0.046875]\n",
      "[ 0.125     0.4375    0.078125 -0.03125 ]\n",
      "[ 0.0625    0.109375  0.40625  -0.078125]\n",
      "[ 0.046875  0.046875 -0.03125   0.359375]\n"
     ]
    },
    {
     "data": {
      "image/png": "[encoded data removed]",
      "text/plain": [
       "<Figure size 1440x288 with 4 Axes>"
      ]
     },
     "metadata": {},
     "output_type": "display_data"
    },
    {
     "data": {
      "image/png": "[encoded data removed]",
      "text/plain": [
       "<Figure size 1440x288 with 4 Axes>"
      ]
     },
     "metadata": {},
     "output_type": "display_data"
    }
   ],
   "source": [
    "\n",
    "plotweights(allweightsDamage,file=\"hopfield_weights_damaged.png\")\n",
    "\n",
    "# noisify each pattern\n",
    "\n",
    "fig,ax=plt.subplots(1,4,figsize=(20,4))\n",
    "for i in range(npatterns):\n",
    "    plotpattern(noisy_patterns[i],ax[i],title='noisy %s' % i)\n",
    "\n",
    "plt.savefig(\"hopfield_orth4_noisy.png\")\n",
    "\n",
    "fig,ax=plt.subplots(1,4,figsize=(20,4))\n",
    "for i in range(npatterns):\n",
    "    plotpattern(recovered_pattern[i],ax[i],title='retrieved %s' % i)\n",
    "plt.savefig(\"hopfield_orth4_retrieval.png\")"
   ]
  }
 ],
 "metadata": {
  "kernelspec": {
   "display_name": "Python 3",
   "language": "python",
   "name": "python3"
  },
  "language_info": {
   "codemirror_mode": {
    "name": "ipython",
    "version": 3
   },
   "file_extension": ".py",
   "mimetype": "text/x-python",
   "name": "python",
   "nbconvert_exporter": "python",
   "pygments_lexer": "ipython3",
   "version": "3.5.4"
  }
 },
 "nbformat": 4,
 "nbformat_minor": 4
}
