{
 "cells": [
  {
   "cell_type": "markdown",
   "metadata": {},
   "source": [
    "## Hopfield network - part 1: memory storage and retrieval\n",
    "\n",
    "Build a Hopfield network with $nunits$ neurons, storing $npatterns$ orthogonal patterns in its synaptic weights.\n",
    "\n",
    "Neurons activity takes values $S_i=\\{\\pm1\\}$, for $i=1,\\ldots,nunits$.\n",
    "\n",
    "Input patterns take values $\\xi_i^\\mu=\\{\\pm1\\}$, for $i=1,\\ldots,nunits$ neurons and $\\mu=1,\\ldots,npatterns$ patterns.\n",
    "\n",
    "Test memory retrieval and the occurrence of spurious states \n"
   ]
  },
  {
   "cell_type": "code",
   "execution_count": 1,
   "metadata": {},
   "outputs": [],
   "source": [
    "import numpy as np\n",
    "from matplotlib import pyplot as plt\n",
    "import matplotlib.cm as cm\n",
    "np.random.seed(1)\n",
    "\n",
    "# plotting specifications\n",
    "#Options\n",
    "params = {'text.usetex' : True,\n",
    "         'font.size' : 20,\n",
    "         'font.family' : 'cmr10',\n",
    "#          'figure.autolayout': True\n",
    "         }\n",
    "plt.rcParams.update(params)\n",
    "# plt.rcParams['axes.unicode_minus']=False\n",
    "# plt.rcParams['axes.labelsize']=16\n",
    "# plt.rcParams['figure.figsize']=(5,5)\n",
    "\n",
    "cmap = plt.get_cmap(\"tab10\") # default color cycle, call by using color=cmap(i) i=0 is blue\n",
    "#reversed('RdBu')"
   ]
  },
  {
   "cell_type": "markdown",
   "metadata": {},
   "source": [
    "Create $npatterns=4$ orthogonal patterns $\\xi_i^\\mu$. We visualize neurons on a square grid."
   ]
  },
  {
   "cell_type": "code",
   "execution_count": 2,
   "metadata": {},
   "outputs": [
    {
     "data": {
      "image/png": "[encoded data removed]",
      "text/plain": [
       "<Figure size 1440x360 with 4 Axes>"
      ]
     },
     "metadata": {},
     "output_type": "display_data"
    }
   ],
   "source": [
    "N1=16; # size of edge of square array\n",
    "nunits=N1**2 # neurons\n",
    "npatterns=4\n",
    "\n",
    "def generate_orth_patterns(nunits,npatterns):\n",
    "    train_data=np.zeros((npatterns,nunits))\n",
    "    N1=int(nunits**(1/2))\n",
    "    for ip in range(npatterns):\n",
    "        tempPattern=-np.ones((N1,N1))\n",
    "        for i in range(N1):\n",
    "            if (np.ceil((i+1)/(2**ip)) % 2 ==0):\n",
    "                tempPattern[i,:]=1 # top left to bottom right\n",
    "        train_data[ip,:]=tempPattern.flatten()\n",
    "    return train_data\n",
    "    \n",
    "def generate_rand_patterns(nunits,npatterns,probFlip):\n",
    "    #probFlip=probability of having +1 entry\n",
    "    train_data=-np.ones((npatterns,nunits))\n",
    "    N1=int(nunits**(1/2))\n",
    "    for ip in range(npatterns):\n",
    "        tempPattern=-np.ones(nunits)\n",
    "        indflip=(np.random.rand(nunits)<probFlip)\n",
    "        tempPattern[indflip]=1\n",
    "        train_data[ip,:]=tempPattern.flatten()\n",
    "    return train_data\n",
    "\n",
    "# plot patterns\n",
    "def plotpattern(pattern,ax,title='pattern'):\n",
    "    ax.matshow(np.reshape(pattern,[N1,N1]), cmap='Greys',interpolation='nearest')\n",
    "    ax.set_xticks([]); ax.set_yticks([]); ax.set_title(title)\n",
    "    \n",
    "train_data=generate_orth_patterns(nunits,npatterns)    \n",
    "# train_data=generate_rand_patterns(nunits,npatterns,0.1)    \n",
    "\n",
    "nplot=len(train_data)\n",
    "fig,ax=plt.subplots(1,nplot,figsize=(20,5))\n",
    "for i in range(nplot):\n",
    "    plotpattern(train_data[i],ax[i],title='pattern %s' % i)\n",
    "plt.savefig(\"orthogonal_patterns4.png\")"
   ]
  },
  {
   "cell_type": "markdown",
   "metadata": {},
   "source": [
    "Compute overlaps $m_{\\mu\\nu}$ between patterns (correlation): check that patterns are orthogonal.\n",
    "\n",
    "$$\n",
    "m_{\\mu\\nu}={1\\over N}\\sum_{i=1}^N\\xi_i^\\mu\\xi_i^\\nu \\ .\n",
    "$$\n"
   ]
  },
  {
   "cell_type": "code",
   "execution_count": 3,
   "metadata": {},
   "outputs": [
    {
     "name": "stdout",
     "output_type": "stream",
     "text": [
      "0.0\n",
      "[1. 0. 0. 0.]\n",
      "[[1. 0. 0. 0.]\n",
      " [0. 1. 0. 0.]\n",
      " [0. 0. 1. 0.]\n",
      " [0. 0. 0. 1.]]\n"
     ]
    }
   ],
   "source": [
    "def compute_overlap(pattern1,pattern2):\n",
    "    # returns: overlap between the patterns\n",
    "    shape1=pattern1.shape\n",
    "    if shape1 !=pattern2.shape:\n",
    "        raise ValueError(\"patterns have different shape!\")\n",
    "    dot_prod=np.dot(pattern1.flatten(),pattern2.flatten())\n",
    "    return float(dot_prod)/np.prod(shape1)\n",
    "\n",
    "def compute_overlap_list(reference_pattern,pattern_list):\n",
    "    overlap=np.zeros(len(pattern_list))\n",
    "    for i in range(0,len(pattern_list)):\n",
    "        overlap[i]=compute_overlap(reference_pattern,pattern_list[i])\n",
    "    return overlap\n",
    "\n",
    "def compute_overlap_matrix(pattern_list):\n",
    "    nr_patterns=len(pattern_list)\n",
    "    overlap=np.zeros((nr_patterns,nr_patterns))\n",
    "    for i in range(nr_patterns):\n",
    "        for k in range(i+1):\n",
    "            if i==k:\n",
    "                overlap[i,i]=1\n",
    "            else:\n",
    "                overlap[i,k]=compute_overlap(pattern_list[i],pattern_list[k])\n",
    "                overlap[k,i]=overlap[i,k]\n",
    "    return overlap\n",
    "\n",
    "overlap=compute_overlap(train_data[0],train_data[1])\n",
    "print(overlap)\n",
    "overlap=compute_overlap_list(train_data[0],train_data)\n",
    "print(overlap)\n",
    "overlap=compute_overlap_matrix(train_data)\n",
    "print(overlap)"
   ]
  },
  {
   "cell_type": "markdown",
   "metadata": {},
   "source": [
    "Store first pattern in the synaptic weights $w_{ij}$:\n",
    "\n",
    "$$\n",
    "w_{ij}={1\\over N}\\xi^\\mu_i\\xi^\\mu_j-{1\\over N}\\delta_{ij} \\ ,\n",
    "$$\n",
    "where the last term enforces $w_{ii}=0$."
   ]
  },
  {
   "cell_type": "code",
   "execution_count": 4,
   "metadata": {},
   "outputs": [
    {
     "data": {
      "image/png": "[encoded data removed]",
      "text/plain": [
       "<Figure size 360x288 with 2 Axes>"
      ]
     },
     "metadata": {
      "needs_background": "light"
     },
     "output_type": "display_data"
    }
   ],
   "source": [
    "# hebb rule\n",
    "weights0=np.outer(train_data[0],train_data[0])/nunits\n",
    "np.fill_diagonal(weights0,0)\n",
    "\n",
    "def plotweights(self,file=\"current_weight.png\"):\n",
    "    plt.figure(figsize=(5,4))\n",
    "    w_plot=plt.imshow(self,cmap=cm.coolwarm)\n",
    "    plt.colorbar(w_plot)\n",
    "    plt.title(\"Network weights\")\n",
    "    plt.xlabel(\"neurons\"); plt.ylabel(\"neurons\"); plt.tight_layout(); plt.savefig(file)\n",
    "    plt.show()\n",
    "    \n",
    "plotweights(weights0)"
   ]
  },
  {
   "cell_type": "markdown",
   "metadata": {},
   "source": [
    "## Recurrent dynamics\n",
    "\n",
    "Implement Hopfield network dynamics, using two different kinds of updates. Monitor the network energy function (Lyapunov function of the dynamics, monotonically decreasing):\n",
    "$$\n",
    "E=-{1\\over2}\\sum_{i,j}w_{ij}S_iS_j \\ ,\n",
    "$$\n",
    "\n",
    "1. Asynchronous updates at zero temperature. At each time step, pick a random neuron and update its value according to the rule:\n",
    "\n",
    "$$\n",
    "S_i(t+1)=sign[\\,h_i(t)+\\theta_i\\,] \\ ,\n",
    "$$ \n",
    "where $h_i(t)=\\sum_{j=1}^N w_{ij}S_j(t)$ is the neuron's input and $\\theta_i$ is an activation threshold.\n",
    "\n",
    "2. Asynchronous updates with nonzero temperature $T$. At each time step, pick a random neuron and update its value according to the probabilistic rule:\n",
    "\n",
    "$$\n",
    "Prob[S_i(t+1)=+1]={1\\over 1+e^{-2\\beta (h_i(t)+\\theta_i)}} \\ ,\n",
    "$$ \n",
    "where $h_i(t)=\\sum_{j=1}^N w_{ij}S_j(t)$ is the neuron's input and $\\theta_i$ is an activation threshold. $\\beta=1/T$ is the inverse temperature."
   ]
  },
  {
   "cell_type": "code",
   "execution_count": 39,
   "metadata": {},
   "outputs": [],
   "source": [
    "# dynamics\n",
    "def probspin(h,beta):\n",
    "    res=1/(1+np.exp(-2*beta*h))\n",
    "    return res\n",
    "\n",
    "def flow(pattern,weights,theta=0.,steps=10000,display=True,EarlyStop=True,T=0):\n",
    "    nunits=len(pattern)\n",
    "    steps_tot=steps*nunits\n",
    "    pattern_flat=pattern.flatten()\n",
    "    energy=[]\n",
    "    if (type(theta)==float) or (type(theta)==int):\n",
    "        thetas=np.zeros(len(pattern_flat))+theta\n",
    "    for step in range(steps_tot):\n",
    "        units_perm=np.random.permutation(len(pattern_flat))\n",
    "        for unit1 in units_perm:\n",
    "            # unit1=np.random.randint(low=0,high=(len(pattern_flat)))\n",
    "            unit_weights=weights[unit1,:]\n",
    "            net_input=np.dot(unit_weights,pattern_flat)\n",
    "            if T==0:\n",
    "                pattern_flat[unit1]=1 if (net_input>thetas[unit1]) else -1\n",
    "            else:\n",
    "                pattern_flat[unit1]=1 if probspin(net_input-thetas[unit1],1/T)>np.random.rand(1) else -1\n",
    "        energytemp=-0.5*np.dot(np.dot(pattern_flat.T,weights),pattern_flat)\n",
    "        energy.append(energytemp)\n",
    "        if display:\n",
    "            print('energy at step {} is now {}'.format((step),energytemp))\n",
    "        if (step>0) & EarlyStop:\n",
    "            TOL=np.diff(energy[-5:-1]).sum()\n",
    "            if (TOL==0):\n",
    "                # monitors changes in energy values, stop dynamics if no change in last 5 steps\n",
    "                if display:\n",
    "                    print('reached min of energy, stop dynamics!')\n",
    "                break\n",
    "    evolved_pattern=pattern_flat\n",
    "    return evolved_pattern\n"
   ]
  },
  {
   "cell_type": "markdown",
   "metadata": {},
   "source": [
    "## Memory retrieval\n",
    "\n",
    "Introduce a corrupt version $\\rho^{\\mu}_i(p)$ of the stored pattern $\\xi^\\mu_i$, where we flip a fraction $p$=flip_fraction of the pattern bits.  "
   ]
  },
  {
   "cell_type": "code",
   "execution_count": 40,
   "metadata": {},
   "outputs": [
    {
     "data": {
      "image/png": "[encoded data removed]",
      "text/plain": [
       "<Figure size 1440x360 with 2 Axes>"
      ]
     },
     "metadata": {},
     "output_type": "display_data"
    }
   ],
   "source": [
    "# def noisify(pattern,flip_fraction):\n",
    "def noisify(pattern,flip_fraction):\n",
    "    noisy_pattern=pattern.copy()\n",
    "    lenpat=len(noisy_pattern)\n",
    "    choices=np.random.choice(lenpat,int(round(flip_fraction*lenpat)),replace=False)\n",
    "    noisy_pattern[choices]=-noisy_pattern[choices]\n",
    "    return noisy_pattern\n",
    "\n",
    "noisy0=noisify(train_data[0],0.1)\n",
    "fig,ax=plt.subplots(1,2,figsize=(20,5))\n",
    "plotpattern(train_data[0],ax[0],title='stored pattern 0')\n",
    "plotpattern(noisy0,ax[1],title='noisy pattern 0')\n"
   ]
  },
  {
   "cell_type": "markdown",
   "metadata": {},
   "source": [
    "Use the corrupt pattern $S_i(0)=\\rho^{\\mu}_i(p)$ as initial condition for the network dynamics. Does the network converge? Try to increase the fraction of bits flipped. When does retrieval stop working? \n",
    "\n",
    "Use the negative corrupt pattern $S_i(0)=-\\rho^{\\mu}_i(p)$ as initial condition, and let the network evolve. Where does the network converge to? "
   ]
  },
  {
   "cell_type": "code",
   "execution_count": 41,
   "metadata": {},
   "outputs": [
    {
     "name": "stdout",
     "output_type": "stream",
     "text": [
      "overlap of noisy pattern with 4 patterns [ 0.203125 -0.03125   0.015625 -0.03125 ]\n",
      "\n",
      "energy at step 0 is now -127.5\n",
      "energy at step 1 is now -127.5\n",
      "reached min of energy, stop dynamics!\n",
      "overlap of retrieved pattern with 4 patterns [1. 0. 0. 0.]\n",
      "\n",
      "overlap of noisy pattern with 4 patterns [-0.203125  0.03125  -0.015625  0.03125 ]\n",
      "\n",
      "energy at step 0 is now -127.5\n",
      "energy at step 1 is now -127.5\n",
      "reached min of energy, stop dynamics!\n",
      "overlap of retrieved pattern with 4 patterns [-1.  0.  0.  0.]\n",
      "\n"
     ]
    },
    {
     "data": {
      "image/png": "[encoded data removed]",
      "text/plain": [
       "<Figure size 1440x360 with 2 Axes>"
      ]
     },
     "metadata": {},
     "output_type": "display_data"
    },
    {
     "data": {
      "image/png": "[encoded data removed]",
      "text/plain": [
       "<Figure size 1440x360 with 2 Axes>"
      ]
     },
     "metadata": {},
     "output_type": "display_data"
    }
   ],
   "source": [
    "noisy0=noisify(train_data[0],0.4)\n",
    "\n",
    "overlap=compute_overlap_list(noisy0,train_data)\n",
    "# evolve corrupt version of 1st pattern\n",
    "print('overlap of noisy pattern with 4 patterns %s\\n' % overlap)\n",
    "noisy_evolved0=flow(noisy0,weights0,theta=0,steps=100)\n",
    "overlap=compute_overlap_list(noisy_evolved0,train_data)\n",
    "print('overlap of retrieved pattern with 4 patterns %s\\n' % overlap)\n",
    "fig,ax=plt.subplots(1,2,figsize=(20,5))\n",
    "plotpattern(noisy0,ax[0],title='initial condition')\n",
    "plotpattern(noisy_evolved0,ax[1],title='retrieved pattern')\n",
    "\n",
    "overlap=compute_overlap_list(-noisy0,train_data)\n",
    "# evolve corrupt version of 1st pattern\n",
    "print('overlap of noisy pattern with 4 patterns %s\\n' % overlap)\n",
    "noisy_evolved0=flow(-noisy0,weights0,theta=0,steps=100)\n",
    "overlap=compute_overlap_list(noisy_evolved0,train_data)\n",
    "print('overlap of retrieved pattern with 4 patterns %s\\n' % overlap)\n",
    "fig,ax=plt.subplots(1,2,figsize=(20,5))\n",
    "plotpattern(-noisy0,ax[0],title='initial condition')\n",
    "plotpattern(noisy_evolved0,ax[1],title='retrieved pattern')\n"
   ]
  },
  {
   "cell_type": "markdown",
   "metadata": {},
   "source": [
    "## Basin of attraction\n",
    "\n",
    "Calculate the basin of attraction of the pattern $\\xi^\\mu_i$, defined as value of the overlap $m[\\xi^\\mu_i,\\rho^{\\mu}_i(p)]$ for which pattern retrieval goes down to chance level. For each value of spin flip percentage $p$, run 5 times from random initial conditions and story the fraction of correctly retrieved patterns. \n",
    "\n",
    "Hint: calculate retrieval by increasing the percentage of spin flips $p$ of the corrupt initial condition $\\rho^{\\mu}_i(p)$.\n"
   ]
  },
  {
   "cell_type": "code",
   "execution_count": 42,
   "metadata": {},
   "outputs": [],
   "source": [
    "# i_train is the index of the pattern that we choose for noisyfied initial conditions and try to retrieve\n",
    "def basin(testpatterns,i_train,weights1,fset,nrepeats,T=0,plotf=True):\n",
    "    # testpatterns is a list of network attractors or patterns\n",
    "    # i_train=index of the pattern for which we are calculating basin of attraction\n",
    "    # fset=array of values of spin flip fractions\n",
    "    # nrepeats = number of times we repeat the dynamics for the same value of spin flip fraction\n",
    "    nfset=len(fset) # set of spin flip for each initial condition\n",
    "    retrieval_f=np.zeros(nfset) # fraction of correct retrievals across repeats\n",
    "    overlap_f=np.zeros(nfset) # overlaps of the initial condition with the store pattern\n",
    "    trainpattern=testpatterns[i_train]\n",
    "    for i_fset in range(nfset):\n",
    "        overlap_ic=[]\n",
    "        count=0 # hit count\n",
    "        for icnt in range(nrepeats):\n",
    "            noisy_pattern=noisify(trainpattern,fset[i_fset])\n",
    "            overlap_ic.append(compute_overlap(noisy_pattern,trainpattern))\n",
    "            recovered_pattern=flow(noisy_pattern,weights1,theta=0,steps=10000,display=False,EarlyStop=True,T=T)\n",
    "            # estimate overlap of recovered_pattern with all other patterns testpatterns\n",
    "            overlap=compute_overlap_list(recovered_pattern,testpatterns)\n",
    "            # count a hit if the recovered_pattern is the same as the trainpattern\n",
    "            count+=(overlap.argmax()==i_train)\n",
    "        overlap_f[i_fset]=np.array(overlap_ic).mean()\n",
    "        retrieval_f[i_fset]=count/nrepeats\n",
    "\n",
    "    print('overlap',overlap_f[::-1])\n",
    "    print('hit rate (retrieval)',retrieval_f[::-1])\n",
    "\n",
    "    if plotf:\n",
    "        fig,ax=plt.subplots(1,1,figsize=(10,5))\n",
    "        ax.plot(overlap_f, retrieval_f, linestyle='solid')\n",
    "        ax.set_title(\"pattern retrieval\")\n",
    "        ax.set_xlabel(\"overlap m\"); ax.set_ylabel(\"successful retrieval [%]\")\n",
    "        ax.plot([overlap_f.min(),overlap_f.max()],0.5*np.ones(2))\n",
    "\n",
    "    return overlap_f,retrieval_f\n",
    "\n"
   ]
  },
  {
   "cell_type": "code",
   "execution_count": 43,
   "metadata": {},
   "outputs": [
    {
     "name": "stdout",
     "output_type": "stream",
     "text": [
      "overlap [-1.        -0.8984375 -0.7890625 -0.6875    -0.578125  -0.4765625\n",
      " -0.3671875 -0.265625  -0.15625   -0.0546875  0.0546875  0.15625\n",
      "  0.265625   0.3671875  0.4765625  0.578125   0.6875     0.7890625\n",
      "  0.8984375  1.       ]\n",
      "hit rate (retrieval) [0. 0. 0. 0. 0. 0. 0. 0. 0. 0. 1. 1. 1. 1. 1. 1. 1. 1. 1. 1.]\n"
     ]
    },
    {
     "data": {
      "text/plain": [
       "(array([ 1.       ,  0.8984375,  0.7890625,  0.6875   ,  0.578125 ,\n",
       "         0.4765625,  0.3671875,  0.265625 ,  0.15625  ,  0.0546875,\n",
       "        -0.0546875, -0.15625  , -0.265625 , -0.3671875, -0.4765625,\n",
       "        -0.578125 , -0.6875   , -0.7890625, -0.8984375, -1.       ]),\n",
       " array([1., 1., 1., 1., 1., 1., 1., 1., 1., 1., 0., 0., 0., 0., 0., 0., 0.,\n",
       "        0., 0., 0.]))"
      ]
     },
     "execution_count": 43,
     "metadata": {},
     "output_type": "execute_result"
    },
    {
     "data": {
      "image/png": "[encoded data removed]",
      "text/plain": [
       "<Figure size 720x360 with 1 Axes>"
      ]
     },
     "metadata": {
      "needs_background": "light"
     },
     "output_type": "display_data"
    }
   ],
   "source": [
    "nrepeats=10\n",
    "fset=np.linspace(0,1,20)\n",
    "test_patterns=np.concatenate((train_data,-train_data),axis=0)\n",
    "i_train=4\n",
    "basin(test_patterns,i_train,weights0,fset,nrepeats)"
   ]
  },
  {
   "cell_type": "markdown",
   "metadata": {},
   "source": [
    "Store all patterns now, check we recover all of them."
   ]
  },
  {
   "cell_type": "code",
   "execution_count": 11,
   "metadata": {},
   "outputs": [],
   "source": [
    "def set_weights(patterns):\n",
    "    npatterns1=len(patterns)\n",
    "    nunits1=len(patterns[0])\n",
    "    weights1=np.zeros((nunits1,nunits1))\n",
    "    for i in range(npatterns1):\n",
    "        weights1+=np.outer(patterns[i],patterns[i])\n",
    "    np.fill_diagonal(weights1,0)\n",
    "    out=weights1/nunits1\n",
    "    return out"
   ]
  },
  {
   "cell_type": "code",
   "execution_count": 47,
   "metadata": {},
   "outputs": [
    {
     "data": {
      "image/png": "[encoded data removed]",
      "text/plain": [
       "<Figure size 360x288 with 2 Axes>"
      ]
     },
     "metadata": {
      "needs_background": "light"
     },
     "output_type": "display_data"
    },
    {
     "name": "stdout",
     "output_type": "stream",
     "text": [
      "overlap [1. 0. 0. 0.]\n",
      "overlap [0. 1. 0. 0.]\n",
      "overlap [0. 0. 1. 0.]\n",
      "overlap [0. 0. 0. 1.]\n"
     ]
    },
    {
     "data": {
      "image/png": "[encoded data removed]",
      "text/plain": [
       "<Figure size 1440x288 with 4 Axes>"
      ]
     },
     "metadata": {},
     "output_type": "display_data"
    },
    {
     "data": {
      "image/png": "[encoded data removed]",
      "text/plain": [
       "<Figure size 1440x288 with 4 Axes>"
      ]
     },
     "metadata": {},
     "output_type": "display_data"
    }
   ],
   "source": [
    "allweights=set_weights(train_data)\n",
    "plotweights(allweights)\n",
    "\n",
    "# noisify each pattern\n",
    "noisy_patterns=np.zeros(train_data.shape)\n",
    "for i in range(npatterns):\n",
    "    noisy_patterns[i]=noisify(train_data[i],0.1)\n",
    "\n",
    "\n",
    "fig,ax=plt.subplots(1,4,figsize=(20,4))\n",
    "for i in range(npatterns):\n",
    "    plotpattern(noisy_patterns[i],ax[i],title='noisy %s' % i)\n",
    "plt.savefig(\"hopfield_orth4_noisy.png\")\n",
    "\n",
    "recovered_pattern=np.zeros((npatterns,nunits))\n",
    "for i in range(npatterns):\n",
    "    recovered_pattern[i]=flow(noisy_patterns[i],allweights,theta=0,steps=20,display=False,EarlyStop=True,T=0.)\n",
    "    overlap=compute_overlap_list(recovered_pattern[i,:],train_data)\n",
    "    print('overlap',overlap)\n",
    "\n",
    "fig,ax=plt.subplots(1,4,figsize=(20,4))\n",
    "for i in range(npatterns):\n",
    "    plotpattern(recovered_pattern[i],ax[i],title='retrieved %s' % i)\n",
    "plt.savefig(\"hopfield_orth4_retrieval.png\")"
   ]
  },
  {
   "cell_type": "markdown",
   "metadata": {},
   "source": [
    "## Equidistant initial conditions\n",
    "An initial state that has equal overlap with both patterns ends up in either attractor randomly, \n",
    "because asynchronous updates introduce stochasticity."
   ]
  },
  {
   "cell_type": "code",
   "execution_count": 13,
   "metadata": {},
   "outputs": [
    {
     "name": "stdout",
     "output_type": "stream",
     "text": [
      "overlaps [0.5 0.5 0.  0. ]\n"
     ]
    },
    {
     "data": {
      "image/png": "[encoded data removed]",
      "text/plain": [
       "<Figure size 432x288 with 1 Axes>"
      ]
     },
     "metadata": {},
     "output_type": "display_data"
    }
   ],
   "source": [
    "pattern01=np.mean([train_data[0],train_data[1]],axis=0)\n",
    "fig,ax=plt.subplots(1,1,figsize=(6,4))\n",
    "plotpattern(pattern01,ax,title='pattern01')\n",
    "overlap=compute_overlap_list(pattern01,train_data)\n",
    "print('overlaps %s' % overlap)"
   ]
  },
  {
   "cell_type": "markdown",
   "metadata": {},
   "source": [
    "Run dynamics 10 times and plot retrieved patterns."
   ]
  },
  {
   "cell_type": "code",
   "execution_count": 14,
   "metadata": {},
   "outputs": [
    {
     "data": {
      "image/png": "[encoded data removed]",
      "text/plain": [
       "<Figure size 1440x288 with 10 Axes>"
      ]
     },
     "metadata": {},
     "output_type": "display_data"
    }
   ],
   "source": [
    "recovered_pattern=np.zeros((10,nunits))\n",
    "for i in range(10):\n",
    "    recovered_pattern[i,:]=flow(pattern01,allweights,theta=0,steps=10,display=False)\n",
    "\n",
    "fig,ax=plt.subplots(1,10,figsize=(20,4))\n",
    "for i in range(10):\n",
    "    plotpattern(recovered_pattern[i],ax[i],title='retrieved %s' % i)\n"
   ]
  },
  {
   "cell_type": "markdown",
   "metadata": {},
   "source": [
    "## Temperature and basins of attraction\n",
    "\n",
    "Check basins of attraction shrink when we increase T\n",
    "\n",
    "Check that basins of attraction shrink when we increase the number of stored patterns"
   ]
  },
  {
   "cell_type": "code",
   "execution_count": 35,
   "metadata": {},
   "outputs": [
    {
     "data": {
      "image/png": "[encoded data removed]",
      "text/plain": [
       "<Figure size 360x288 with 2 Axes>"
      ]
     },
     "metadata": {
      "needs_background": "light"
     },
     "output_type": "display_data"
    },
    {
     "name": "stdout",
     "output_type": "stream",
     "text": [
      "overlap [-1.        -0.90625   -0.8125    -0.71875   -0.6171875 -0.5234375\n",
      " -0.4296875 -0.3359375 -0.2421875 -0.1484375 -0.0546875  0.0390625\n",
      "  0.140625   0.234375   0.328125   0.421875   0.515625   0.609375\n",
      "  0.703125   0.796875 ]\n",
      "hit rate (retrieval) [0.  0.  0.  0.  0.  0.  0.  0.  0.  0.  0.  0.1 1.  1.  1.  1.  1.  1.\n",
      " 1.  1. ]\n"
     ]
    },
    {
     "data": {
      "text/plain": [
       "(array([ 0.796875 ,  0.703125 ,  0.609375 ,  0.515625 ,  0.421875 ,\n",
       "         0.328125 ,  0.234375 ,  0.140625 ,  0.0390625, -0.0546875,\n",
       "        -0.1484375, -0.2421875, -0.3359375, -0.4296875, -0.5234375,\n",
       "        -0.6171875, -0.71875  , -0.8125   , -0.90625  , -1.       ]),\n",
       " array([1. , 1. , 1. , 1. , 1. , 1. , 1. , 1. , 0.1, 0. , 0. , 0. , 0. ,\n",
       "        0. , 0. , 0. , 0. , 0. , 0. , 0. ]))"
      ]
     },
     "execution_count": 35,
     "metadata": {},
     "output_type": "execute_result"
    },
    {
     "data": {
      "image/png": "[encoded data removed]",
      "text/plain": [
       "<Figure size 720x360 with 1 Axes>"
      ]
     },
     "metadata": {
      "needs_background": "light"
     },
     "output_type": "display_data"
    }
   ],
   "source": [
    "train_data=generate_orth_patterns(nunits,npatterns)\n",
    "# train_data=generate_rand_patterns(nunits,300,0.5)\n",
    "\n",
    "allweights=set_weights(train_data)\n",
    "plotweights(allweights)\n",
    "\n",
    "nrepeats=10\n",
    "fset=np.linspace(0.1,1,20)\n",
    "test_patterns=np.concatenate((train_data,-train_data),axis=0)\n",
    "basin(test_patterns,0,allweights,fset,nrepeats,T=0)\n"
   ]
  },
  {
   "cell_type": "markdown",
   "metadata": {},
   "source": [
    "Spurious state: combination of 3 patterns!"
   ]
  },
  {
   "cell_type": "code",
   "execution_count": 57,
   "metadata": {},
   "outputs": [
    {
     "name": "stdout",
     "output_type": "stream",
     "text": [
      "spurious overlap [0.5 0.5 0.5 0. ]\n",
      "energy at step 0 is now -80.21875\n",
      "energy at step 1 is now -75.96875\n",
      "reached min of energy, stop dynamics!\n",
      "[0.6171875 0.3046875 0.3671875 0.0234375]\n"
     ]
    },
    {
     "data": {
      "image/png": "[encoded data removed]",
      "text/plain": [
       "<Figure size 432x288 with 2 Axes>"
      ]
     },
     "metadata": {},
     "output_type": "display_data"
    }
   ],
   "source": [
    "train_data=generate_orth_patterns(nunits,npatterns)\n",
    "# train_data=generate_rand_patterns(nunits,10,0.5)\n",
    "\n",
    "allweights=set_weights(train_data)\n",
    "\n",
    "spurious=np.sign(train_data[0]+train_data[1]+train_data[2])\n",
    "overlap=compute_overlap_list(spurious,train_data)\n",
    "print('spurious overlap',overlap)\n",
    "\n",
    "spurious0=noisify(spurious,0.1)\n",
    "recovered_pattern=flow(spurious0,allweights,theta=0,steps=500,display=True,EarlyStop=True,T=0.46)\n",
    "\n",
    "# plot patterns\n",
    "fig,ax=plt.subplots(1,2,figsize=(6,4))\n",
    "plotpattern(spurious,ax[0],title='spurious')\n",
    "plotpattern(recovered_pattern,ax[1],title='retrieved')\n",
    "plt.savefig(\"hopfield_orth_spurious.png\")\n",
    "overlap=compute_overlap_list(recovered_pattern,train_data)\n",
    "print(overlap)"
   ]
  },
  {
   "cell_type": "code",
   "execution_count": 31,
   "metadata": {},
   "outputs": [
    {
     "name": "stdout",
     "output_type": "stream",
     "text": [
      "overlap [0.        0.0546875 0.1015625 0.15625   0.2109375 0.265625  0.3125\n",
      " 0.3671875 0.421875  0.4765625 0.5234375 0.578125  0.6328125 0.6875\n",
      " 0.734375  0.7890625 0.84375   0.8984375 0.9453125 1.       ]\n",
      "hit rate (retrieval) [0.   0.1  0.05 0.1  0.   0.3  0.15 0.4  0.2  0.65 0.5  0.5  0.45 0.4\n",
      " 0.45 0.85 0.55 0.7  0.65 0.6 ]\n"
     ]
    },
    {
     "data": {
      "text/plain": [
       "(array([1.       , 0.9453125, 0.8984375, 0.84375  , 0.7890625, 0.734375 ,\n",
       "        0.6875   , 0.6328125, 0.578125 , 0.5234375, 0.4765625, 0.421875 ,\n",
       "        0.3671875, 0.3125   , 0.265625 , 0.2109375, 0.15625  , 0.1015625,\n",
       "        0.0546875, 0.       ]),\n",
       " array([0.6 , 0.65, 0.7 , 0.55, 0.85, 0.45, 0.4 , 0.45, 0.5 , 0.5 , 0.65,\n",
       "        0.2 , 0.4 , 0.15, 0.3 , 0.  , 0.1 , 0.05, 0.1 , 0.  ]))"
      ]
     },
     "execution_count": 31,
     "metadata": {},
     "output_type": "execute_result"
    },
    {
     "data": {
      "image/png": "[encoded data removed]",
      "text/plain": [
       "<Figure size 720x360 with 1 Axes>"
      ]
     },
     "metadata": {
      "needs_background": "light"
     },
     "output_type": "display_data"
    }
   ],
   "source": []
  },
  {
   "cell_type": "markdown",
   "metadata": {},
   "source": [
    "## Robustness to brain damage\n",
    "Set a fraction of the synaptic weights to zero, see how the network performs!"
   ]
  },
  {
   "cell_type": "code",
   "execution_count": 43,
   "metadata": {},
   "outputs": [
    {
     "data": {
      "image/png": "[encoded data removed]",
      "text/plain": [
       "<Figure size 360x288 with 2 Axes>"
      ]
     },
     "metadata": {
      "needs_background": "light"
     },
     "output_type": "display_data"
    },
    {
     "name": "stdout",
     "output_type": "stream",
     "text": [
      "[ 0.453125  0.109375  0.015625 -0.046875]\n",
      "[ 0.125     0.4375    0.078125 -0.03125 ]\n",
      "[ 0.0625    0.109375  0.40625  -0.078125]\n",
      "[ 0.046875  0.046875 -0.03125   0.359375]\n"
     ]
    },
    {
     "data": {
      "image/png": "[encoded data removed]",
      "text/plain": [
       "<Figure size 1440x288 with 4 Axes>"
      ]
     },
     "metadata": {},
     "output_type": "display_data"
    },
    {
     "data": {
      "image/png": "[encoded data removed]",
      "text/plain": [
       "<Figure size 1440x288 with 4 Axes>"
      ]
     },
     "metadata": {},
     "output_type": "display_data"
    }
   ],
   "source": [
    "\n",
    "plotweights(allweightsDamage,file=\"hopfield_weights_damaged.png\")\n",
    "\n",
    "# noisify each pattern\n",
    "\n",
    "fig,ax=plt.subplots(1,4,figsize=(20,4))\n",
    "for i in range(npatterns):\n",
    "    plotpattern(noisy_patterns[i],ax[i],title='noisy %s' % i)\n",
    "\n",
    "plt.savefig(\"hopfield_orth4_noisy.png\")\n",
    "\n",
    "fig,ax=plt.subplots(1,4,figsize=(20,4))\n",
    "for i in range(npatterns):\n",
    "    plotpattern(recovered_pattern[i],ax[i],title='retrieved %s' % i)\n",
    "plt.savefig(\"hopfield_orth4_retrieval.png\")"
   ]
  }
 ],
 "metadata": {
  "interpreter": {
   "hash": "fe271b255bf7fffd3a6b0dfe25c39ce8781e6acf595c754961941b60ee67b4b3"
  },
  "kernelspec": {
   "display_name": "Python 3.5.4 ('MATH607')",
   "language": "python",
   "name": "python3"
  },
  "language_info": {
   "codemirror_mode": {
    "name": "ipython",
    "version": 3
   },
   "file_extension": ".py",
   "mimetype": "text/x-python",
   "name": "python",
   "nbconvert_exporter": "python",
   "pygments_lexer": "ipython3",
   "version": "3.5.4"
  }
 },
 "nbformat": 4,
 "nbformat_minor": 4
}
